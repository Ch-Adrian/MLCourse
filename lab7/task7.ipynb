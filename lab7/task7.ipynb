{
 "cells": [
  {
   "cell_type": "markdown",
   "metadata": {
    "id": "JqLwuagib9ud"
   },
   "source": [
    "\n",
    "# *7. Zaproponuj własną architekturę głębokiego Autoencodera wykorzystującego filtry konwolucyjne. Nowe podejście do ekstrakcji cech powinno poprawić dokładność klasyfikacji na wszystkich zbiorach danych.\n",
    "\n",
    "\n"
   ]
  },
  {
   "cell_type": "markdown",
   "metadata": {
    "id": "1Iwjrg8qcypf"
   },
   "source": [
    "DATA:"
   ]
  },
  {
   "cell_type": "code",
   "execution_count": 12,
   "metadata": {
    "executionInfo": {
     "elapsed": 1359,
     "status": "ok",
     "timestamp": 1735913186511,
     "user": {
      "displayName": "Adrian",
      "userId": "01706726054200872649"
     },
     "user_tz": -60
    },
    "id": "3AOsFE-Tb7fJ"
   },
   "outputs": [],
   "source": [
    "import matplotlib.pyplot as plt\n",
    "import tensorflow as tf\n",
    "import numpy as np\n",
    "from sklearn.linear_model import LogisticRegression\n",
    "from sklearn.ensemble import RandomForestClassifier\n",
    "from sklearn.metrics import accuracy_score, recall_score, f1_score, precision_score\n",
    "\n",
    "(x_train, y_train), (x_test, y_test) = tf.keras.datasets.mnist.load_data()\n",
    "(f_x_train, f_y_train), (f_x_test, f_y_test) = tf.keras.datasets.fashion_mnist.load_data()\n",
    "k_x_train = np.load(\"kmnist-train-imgs.npz\")['arr_0']\n",
    "k_y_train = np.load(\"kmnist-train-labels.npz\")['arr_0']\n",
    "k_x_test = np.load(\"kmnist-test-imgs.npz\")['arr_0']\n",
    "k_y_test = np.load(\"kmnist-test-labels.npz\")['arr_0']"
   ]
  },
  {
   "cell_type": "code",
   "execution_count": 13,
   "metadata": {
    "executionInfo": {
     "elapsed": 7,
     "status": "ok",
     "timestamp": 1735913023683,
     "user": {
      "displayName": "Adrian",
      "userId": "01706726054200872649"
     },
     "user_tz": -60
    },
    "id": "qY65s3dkcRlN"
   },
   "outputs": [],
   "source": [
    "y_train = np.array(y_train).astype(np.uint8)\n",
    "y_test = np.array(y_test).astype(np.uint8)\n",
    "\n",
    "f_y_train = np.array(f_y_train).astype(np.uint8)\n",
    "f_y_test = np.array(f_y_test).astype(np.uint8)\n",
    "\n",
    "k_y_train = np.array(k_y_train).astype(np.uint8)\n",
    "k_y_test = np.array(k_y_test).astype(np.uint8)"
   ]
  },
  {
   "cell_type": "code",
   "execution_count": 14,
   "metadata": {
    "executionInfo": {
     "elapsed": 291,
     "status": "ok",
     "timestamp": 1735913192417,
     "user": {
      "displayName": "Adrian",
      "userId": "01706726054200872649"
     },
     "user_tz": -60
    },
    "id": "kg8cX91uco4L"
   },
   "outputs": [],
   "source": [
    "x_train = x_train.astype(np.float32)/255.0\n",
    "x_train = x_train.reshape(-1, 28, 28, 1)\n",
    "f_x_train = f_x_train.astype(np.float32)/255.0\n",
    "f_x_train = f_x_train.reshape(-1, 28, 28, 1)\n",
    "k_x_train = k_x_train.astype(np.float32)/255.0\n",
    "k_x_train = k_x_train.reshape(-1, 28, 28, 1)\n",
    "\n",
    "x_test = x_test.astype(np.float32) / 255.0\n",
    "x_test = x_test.reshape(-1, 28, 28, 1)\n",
    "f_x_test = f_x_test.astype(np.float32) / 255.0\n",
    "f_x_test = f_x_test.reshape(-1, 28, 28, 1)\n",
    "k_x_test = k_x_test.astype(np.float32) / 255.0\n",
    "k_x_test = k_x_test.reshape(-1, 28, 28, 1)"
   ]
  },
  {
   "cell_type": "code",
   "execution_count": 15,
   "metadata": {
    "colab": {
     "base_uri": "https://localhost:8080/"
    },
    "executionInfo": {
     "elapsed": 243,
     "status": "ok",
     "timestamp": 1735913214181,
     "user": {
      "displayName": "Adrian",
      "userId": "01706726054200872649"
     },
     "user_tz": -60
    },
    "id": "XekIZpBydNBz",
    "outputId": "32829e74-fdfd-4fd3-a868-450905dc0a9f"
   },
   "outputs": [
    {
     "name": "stdout",
     "output_type": "stream",
     "text": [
      "(60000, 28, 28, 1)\n",
      "(10000, 28, 28, 1)\n",
      "(60000, 28, 28, 1)\n",
      "(10000, 28, 28, 1)\n",
      "(60000, 28, 28, 1)\n",
      "(10000, 28, 28, 1)\n"
     ]
    }
   ],
   "source": [
    "print(x_train.shape)\n",
    "print(x_test.shape)\n",
    "print(f_x_train.shape)\n",
    "print(f_x_test.shape)\n",
    "print(k_x_train.shape)\n",
    "print(k_x_test.shape)"
   ]
  },
  {
   "cell_type": "markdown",
   "metadata": {
    "id": "Byb3jHV-c0df"
   },
   "source": [
    "Autoencoder:"
   ]
  },
  {
   "cell_type": "code",
   "execution_count": 50,
   "metadata": {
    "executionInfo": {
     "elapsed": 242,
     "status": "ok",
     "timestamp": 1735913352889,
     "user": {
      "displayName": "Adrian",
      "userId": "01706726054200872649"
     },
     "user_tz": -60
    },
    "id": "_cEyaGRccxA7"
   },
   "outputs": [],
   "source": [
    "class AutoencoderAdvanced(tf.keras.Model):\n",
    "  def __init__(self, encoding_dimension, input_shape):\n",
    "    super(AutoencoderAdvanced, self).__init__()\n",
    "    self.encoding_dimension = encoding_dimension\n",
    "    self.dropout_rate = 0.2\n",
    "    self.leaky_rate = 0.1\n",
    "    self.encoder = tf.keras.Sequential(\n",
    "        [\n",
    "            tf.keras.layers.InputLayer(shape=input_shape),\n",
    "\n",
    "            tf.keras.layers.Conv2D(filters=32, kernel_size=3, strides=(2, 2)),\n",
    "            tf.keras.layers.BatchNormalization(), \n",
    "            tf.keras.layers.Dropout(self.dropout_rate),\n",
    "            tf.keras.layers.LeakyReLU(negative_slope=self.leaky_rate),\n",
    "\n",
    "            tf.keras.layers.Conv2D(filters=64, kernel_size=3, strides=(2, 2)),\n",
    "            tf.keras.layers.BatchNormalization(), \n",
    "            tf.keras.layers.Dropout(self.dropout_rate),\n",
    "            tf.keras.layers.LeakyReLU(negative_slope=self.leaky_rate),\n",
    "\n",
    "            tf.keras.layers.Conv2D(filters=128, kernel_size=3, strides=(2, 2)),\n",
    "            tf.keras.layers.BatchNormalization(),\n",
    "            tf.keras.layers.Dropout(self.dropout_rate), \n",
    "            tf.keras.layers.LeakyReLU(negative_slope=self.leaky_rate), \n",
    "\n",
    "            tf.keras.layers.Flatten(),\n",
    "            tf.keras.layers.Dense(512, activation='leaky_relu'),\n",
    "            tf.keras.layers.Dropout(self.dropout_rate),\n",
    "            tf.keras.layers.Dense(256, activation='leaky_relu'),\n",
    "            tf.keras.layers.Dropout(self.dropout_rate),\n",
    "            tf.keras.layers.Dense(self.encoding_dimension),\n",
    "        ]\n",
    "    )\n",
    "    self.decoder = tf.keras.Sequential(\n",
    "        [\n",
    "            tf.keras.layers.InputLayer(shape=(self.encoding_dimension,)),\n",
    "\n",
    "            tf.keras.layers.Dense(256, activation='leaky_relu'),\n",
    "            tf.keras.layers.Dropout(self.dropout_rate),\n",
    "            tf.keras.layers.Dense(512, activation='leaky_relu'),\n",
    "            tf.keras.layers.Dropout(self.dropout_rate),\n",
    "\n",
    "            tf.keras.layers.Dense(units=7*7*32, activation='leaky_relu'),\n",
    "            tf.keras.layers.Reshape(target_shape=(7, 7, 32)),\n",
    "\n",
    "\n",
    "            tf.keras.layers.Conv2DTranspose(filters=128, kernel_size=3, strides=2, padding='same'),\n",
    "            tf.keras.layers.BatchNormalization(),\n",
    "            tf.keras.layers.Dropout(self.dropout_rate),\n",
    "            tf.keras.layers.LeakyReLU(negative_slope=self.leaky_rate),\n",
    "\n",
    "            tf.keras.layers.Conv2DTranspose(filters=64, kernel_size=3, strides=2, padding='same'),\n",
    "            tf.keras.layers.BatchNormalization(),\n",
    "            tf.keras.layers.Dropout(self.dropout_rate),\n",
    "            tf.keras.layers.LeakyReLU(negative_slope=self.leaky_rate),\n",
    "\n",
    "            tf.keras.layers.Conv2DTranspose(filters=32, kernel_size=3, strides=1, padding='same'),\n",
    "            tf.keras.layers.BatchNormalization(),\n",
    "            tf.keras.layers.Dropout(self.dropout_rate),\n",
    "            tf.keras.layers.LeakyReLU(negative_slope=self.leaky_rate),\n",
    "\n",
    "            tf.keras.layers.Conv2DTranspose(filters=1, kernel_size=3, strides=1, padding='same', activation='sigmoid'),\n",
    "        ]\n",
    "    )\n",
    "\n",
    "  def call(self, x):\n",
    "    encoded = self.encoder(x)\n",
    "    decoded = self.decoder(encoded)\n",
    "    return decoded"
   ]
  },
  {
   "cell_type": "markdown",
   "metadata": {
    "id": "5G0_uZ5Nc3_q"
   },
   "source": [
    "Computations:"
   ]
  },
  {
   "cell_type": "code",
   "execution_count": 51,
   "metadata": {
    "executionInfo": {
     "elapsed": 437,
     "status": "ok",
     "timestamp": 1735913356114,
     "user": {
      "displayName": "Adrian",
      "userId": "01706726054200872649"
     },
     "user_tz": -60
    },
    "id": "prLjgP7Lc7jY"
   },
   "outputs": [],
   "source": [
    "input_shape = (28, 28, 1)\n",
    "latent_dim = 196\n",
    "batch_size = 32\n",
    "epochs = 40"
   ]
  },
  {
   "cell_type": "code",
   "execution_count": 52,
   "metadata": {
    "executionInfo": {
     "elapsed": 8,
     "status": "ok",
     "timestamp": 1735913356384,
     "user": {
      "displayName": "Adrian",
      "userId": "01706726054200872649"
     },
     "user_tz": -60
    },
    "id": "9y5_uAV2c9LP"
   },
   "outputs": [],
   "source": [
    "autoencoder_adv = AutoencoderAdvanced(latent_dim, input_shape)\n",
    "autoencoder_adv.compile(optimizer='adam', loss=tf.keras.losses.BinaryCrossentropy(from_logits=False), metrics=[tf.keras.metrics.Accuracy])"
   ]
  },
  {
   "cell_type": "code",
   "execution_count": 53,
   "metadata": {
    "executionInfo": {
     "elapsed": 3,
     "status": "ok",
     "timestamp": 1735913356710,
     "user": {
      "displayName": "Adrian",
      "userId": "01706726054200872649"
     },
     "user_tz": -60
    },
    "id": "trwMlzrJc-9O"
   },
   "outputs": [],
   "source": [
    "f_autoencoder_adv = AutoencoderAdvanced(latent_dim, input_shape)\n",
    "f_autoencoder_adv.compile(optimizer='adam', loss=tf.keras.losses.BinaryCrossentropy(from_logits=False), metrics=[tf.keras.metrics.Accuracy])"
   ]
  },
  {
   "cell_type": "code",
   "execution_count": 54,
   "metadata": {
    "executionInfo": {
     "elapsed": 6,
     "status": "ok",
     "timestamp": 1735913357060,
     "user": {
      "displayName": "Adrian",
      "userId": "01706726054200872649"
     },
     "user_tz": -60
    },
    "id": "UPKGflJUdAy3"
   },
   "outputs": [],
   "source": [
    "k_autoencoder_adv = AutoencoderAdvanced(latent_dim, input_shape)\n",
    "k_autoencoder_adv.compile(optimizer='adam', loss=tf.keras.losses.BinaryCrossentropy(from_logits=False), metrics=[tf.keras.metrics.Accuracy])"
   ]
  },
  {
   "cell_type": "code",
   "execution_count": 55,
   "metadata": {
    "colab": {
     "base_uri": "https://localhost:8080/"
    },
    "executionInfo": {
     "elapsed": 17555060,
     "status": "ok",
     "timestamp": 1735930933254,
     "user": {
      "displayName": "Adrian",
      "userId": "01706726054200872649"
     },
     "user_tz": -60
    },
    "id": "9ZS3K9yKdCWG",
    "outputId": "b5ad3d1f-c161-4c6e-8d33-e0954467c1a8"
   },
   "outputs": [
    {
     "name": "stdout",
     "output_type": "stream",
     "text": [
      "Epoch 1/40\n",
      "\u001b[1m1875/1875\u001b[0m \u001b[32m━━━━━━━━━━━━━━━━━━━━\u001b[0m\u001b[37m\u001b[0m \u001b[1m141s\u001b[0m 73ms/step - accuracy: 7.5776e-09 - loss: 0.1670 - val_accuracy: 1.2755e-07 - val_loss: 0.0866\n",
      "Epoch 2/40\n",
      "\u001b[1m1875/1875\u001b[0m \u001b[32m━━━━━━━━━━━━━━━━━━━━\u001b[0m\u001b[37m\u001b[0m \u001b[1m131s\u001b[0m 70ms/step - accuracy: 2.3359e-08 - loss: 0.0863 - val_accuracy: 0.0000e+00 - val_loss: 0.0826\n",
      "Epoch 3/40\n",
      "\u001b[1m1875/1875\u001b[0m \u001b[32m━━━━━━━━━━━━━━━━━━━━\u001b[0m\u001b[37m\u001b[0m \u001b[1m117s\u001b[0m 62ms/step - accuracy: 3.2392e-07 - loss: 0.0813 - val_accuracy: 7.6531e-07 - val_loss: 0.0812\n",
      "Epoch 4/40\n",
      "\u001b[1m1875/1875\u001b[0m \u001b[32m━━━━━━━━━━━━━━━━━━━━\u001b[0m\u001b[37m\u001b[0m \u001b[1m111s\u001b[0m 59ms/step - accuracy: 4.6676e-06 - loss: 0.0793 - val_accuracy: 1.9260e-05 - val_loss: 0.0786\n",
      "Epoch 5/40\n",
      "\u001b[1m1875/1875\u001b[0m \u001b[32m━━━━━━━━━━━━━━━━━━━━\u001b[0m\u001b[37m\u001b[0m \u001b[1m116s\u001b[0m 62ms/step - accuracy: 5.6172e-05 - loss: 0.0778 - val_accuracy: 7.9209e-05 - val_loss: 0.0774\n",
      "Epoch 6/40\n",
      "\u001b[1m1875/1875\u001b[0m \u001b[32m━━━━━━━━━━━━━━━━━━━━\u001b[0m\u001b[37m\u001b[0m \u001b[1m116s\u001b[0m 62ms/step - accuracy: 1.5759e-04 - loss: 0.0765 - val_accuracy: 1.7258e-04 - val_loss: 0.0766\n",
      "Epoch 7/40\n",
      "\u001b[1m1875/1875\u001b[0m \u001b[32m━━━━━━━━━━━━━━━━━━━━\u001b[0m\u001b[37m\u001b[0m \u001b[1m111s\u001b[0m 59ms/step - accuracy: 3.7182e-04 - loss: 0.0755 - val_accuracy: 9.1416e-04 - val_loss: 0.0757\n",
      "Epoch 8/40\n",
      "\u001b[1m1875/1875\u001b[0m \u001b[32m━━━━━━━━━━━━━━━━━━━━\u001b[0m\u001b[37m\u001b[0m \u001b[1m111s\u001b[0m 59ms/step - accuracy: 9.5967e-04 - loss: 0.0749 - val_accuracy: 9.4005e-04 - val_loss: 0.0752\n",
      "Epoch 9/40\n",
      "\u001b[1m1875/1875\u001b[0m \u001b[32m━━━━━━━━━━━━━━━━━━━━\u001b[0m\u001b[37m\u001b[0m \u001b[1m116s\u001b[0m 62ms/step - accuracy: 0.0013 - loss: 0.0742 - val_accuracy: 0.0011 - val_loss: 0.0748\n",
      "Epoch 10/40\n",
      "\u001b[1m1875/1875\u001b[0m \u001b[32m━━━━━━━━━━━━━━━━━━━━\u001b[0m\u001b[37m\u001b[0m \u001b[1m111s\u001b[0m 59ms/step - accuracy: 0.0019 - loss: 0.0737 - val_accuracy: 9.4184e-04 - val_loss: 0.0747\n",
      "Epoch 11/40\n",
      "\u001b[1m1875/1875\u001b[0m \u001b[32m━━━━━━━━━━━━━━━━━━━━\u001b[0m\u001b[37m\u001b[0m \u001b[1m142s\u001b[0m 59ms/step - accuracy: 0.0022 - loss: 0.0731 - val_accuracy: 0.0029 - val_loss: 0.0739\n",
      "Epoch 12/40\n",
      "\u001b[1m1875/1875\u001b[0m \u001b[32m━━━━━━━━━━━━━━━━━━━━\u001b[0m\u001b[37m\u001b[0m \u001b[1m111s\u001b[0m 59ms/step - accuracy: 0.0029 - loss: 0.0728 - val_accuracy: 0.0034 - val_loss: 0.0740\n",
      "Epoch 13/40\n",
      "\u001b[1m1875/1875\u001b[0m \u001b[32m━━━━━━━━━━━━━━━━━━━━\u001b[0m\u001b[37m\u001b[0m \u001b[1m111s\u001b[0m 59ms/step - accuracy: 0.0039 - loss: 0.0724 - val_accuracy: 0.0041 - val_loss: 0.0736\n",
      "Epoch 14/40\n",
      "\u001b[1m1875/1875\u001b[0m \u001b[32m━━━━━━━━━━━━━━━━━━━━\u001b[0m\u001b[37m\u001b[0m \u001b[1m142s\u001b[0m 59ms/step - accuracy: 0.0047 - loss: 0.0720 - val_accuracy: 0.0071 - val_loss: 0.0732\n",
      "Epoch 15/40\n",
      "\u001b[1m1875/1875\u001b[0m \u001b[32m━━━━━━━━━━━━━━━━━━━━\u001b[0m\u001b[37m\u001b[0m \u001b[1m117s\u001b[0m 62ms/step - accuracy: 0.0053 - loss: 0.0717 - val_accuracy: 0.0037 - val_loss: 0.0731\n",
      "Epoch 16/40\n",
      "\u001b[1m1875/1875\u001b[0m \u001b[32m━━━━━━━━━━━━━━━━━━━━\u001b[0m\u001b[37m\u001b[0m \u001b[1m122s\u001b[0m 65ms/step - accuracy: 0.0058 - loss: 0.0713 - val_accuracy: 0.0073 - val_loss: 0.0730\n",
      "Epoch 17/40\n",
      "\u001b[1m1875/1875\u001b[0m \u001b[32m━━━━━━━━━━━━━━━━━━━━\u001b[0m\u001b[37m\u001b[0m \u001b[1m119s\u001b[0m 64ms/step - accuracy: 0.0078 - loss: 0.0710 - val_accuracy: 0.0073 - val_loss: 0.0728\n",
      "Epoch 18/40\n",
      "\u001b[1m1875/1875\u001b[0m \u001b[32m━━━━━━━━━━━━━━━━━━━━\u001b[0m\u001b[37m\u001b[0m \u001b[1m111s\u001b[0m 59ms/step - accuracy: 0.0085 - loss: 0.0707 - val_accuracy: 0.0097 - val_loss: 0.0724\n",
      "Epoch 19/40\n",
      "\u001b[1m1875/1875\u001b[0m \u001b[32m━━━━━━━━━━━━━━━━━━━━\u001b[0m\u001b[37m\u001b[0m \u001b[1m111s\u001b[0m 59ms/step - accuracy: 0.0098 - loss: 0.0703 - val_accuracy: 0.0104 - val_loss: 0.0722\n",
      "Epoch 20/40\n",
      "\u001b[1m1875/1875\u001b[0m \u001b[32m━━━━━━━━━━━━━━━━━━━━\u001b[0m\u001b[37m\u001b[0m \u001b[1m112s\u001b[0m 60ms/step - accuracy: 0.0103 - loss: 0.0702 - val_accuracy: 0.0114 - val_loss: 0.0719\n",
      "Epoch 21/40\n",
      "\u001b[1m1875/1875\u001b[0m \u001b[32m━━━━━━━━━━━━━━━━━━━━\u001b[0m\u001b[37m\u001b[0m \u001b[1m112s\u001b[0m 60ms/step - accuracy: 0.0119 - loss: 0.0701 - val_accuracy: 0.0111 - val_loss: 0.0718\n",
      "Epoch 22/40\n",
      "\u001b[1m1875/1875\u001b[0m \u001b[32m━━━━━━━━━━━━━━━━━━━━\u001b[0m\u001b[37m\u001b[0m \u001b[1m112s\u001b[0m 60ms/step - accuracy: 0.0120 - loss: 0.0698 - val_accuracy: 0.0152 - val_loss: 0.0720\n",
      "Epoch 23/40\n",
      "\u001b[1m1875/1875\u001b[0m \u001b[32m━━━━━━━━━━━━━━━━━━━━\u001b[0m\u001b[37m\u001b[0m \u001b[1m117s\u001b[0m 62ms/step - accuracy: 0.0128 - loss: 0.0697 - val_accuracy: 0.0084 - val_loss: 0.0718\n",
      "Epoch 24/40\n",
      "\u001b[1m1875/1875\u001b[0m \u001b[32m━━━━━━━━━━━━━━━━━━━━\u001b[0m\u001b[37m\u001b[0m \u001b[1m112s\u001b[0m 59ms/step - accuracy: 0.0135 - loss: 0.0693 - val_accuracy: 0.0143 - val_loss: 0.0713\n",
      "Epoch 25/40\n",
      "\u001b[1m1875/1875\u001b[0m \u001b[32m━━━━━━━━━━━━━━━━━━━━\u001b[0m\u001b[37m\u001b[0m \u001b[1m112s\u001b[0m 60ms/step - accuracy: 0.0146 - loss: 0.0692 - val_accuracy: 0.0151 - val_loss: 0.0714\n",
      "Epoch 26/40\n",
      "\u001b[1m1875/1875\u001b[0m \u001b[32m━━━━━━━━━━━━━━━━━━━━\u001b[0m\u001b[37m\u001b[0m \u001b[1m112s\u001b[0m 59ms/step - accuracy: 0.0145 - loss: 0.0692 - val_accuracy: 0.0178 - val_loss: 0.0713\n",
      "Epoch 27/40\n",
      "\u001b[1m1875/1875\u001b[0m \u001b[32m━━━━━━━━━━━━━━━━━━━━\u001b[0m\u001b[37m\u001b[0m \u001b[1m142s\u001b[0m 59ms/step - accuracy: 0.0147 - loss: 0.0690 - val_accuracy: 0.0138 - val_loss: 0.0713\n",
      "Epoch 28/40\n",
      "\u001b[1m1875/1875\u001b[0m \u001b[32m━━━━━━━━━━━━━━━━━━━━\u001b[0m\u001b[37m\u001b[0m \u001b[1m112s\u001b[0m 59ms/step - accuracy: 0.0149 - loss: 0.0688 - val_accuracy: 0.0155 - val_loss: 0.0711\n",
      "Epoch 29/40\n",
      "\u001b[1m1875/1875\u001b[0m \u001b[32m━━━━━━━━━━━━━━━━━━━━\u001b[0m\u001b[37m\u001b[0m \u001b[1m111s\u001b[0m 59ms/step - accuracy: 0.0149 - loss: 0.0687 - val_accuracy: 0.0156 - val_loss: 0.0709\n",
      "Epoch 30/40\n",
      "\u001b[1m1875/1875\u001b[0m \u001b[32m━━━━━━━━━━━━━━━━━━━━\u001b[0m\u001b[37m\u001b[0m \u001b[1m112s\u001b[0m 59ms/step - accuracy: 0.0158 - loss: 0.0685 - val_accuracy: 0.0161 - val_loss: 0.0714\n",
      "Epoch 31/40\n",
      "\u001b[1m1875/1875\u001b[0m \u001b[32m━━━━━━━━━━━━━━━━━━━━\u001b[0m\u001b[37m\u001b[0m \u001b[1m112s\u001b[0m 60ms/step - accuracy: 0.0168 - loss: 0.0685 - val_accuracy: 0.0191 - val_loss: 0.0711\n",
      "Epoch 32/40\n",
      "\u001b[1m1875/1875\u001b[0m \u001b[32m━━━━━━━━━━━━━━━━━━━━\u001b[0m\u001b[37m\u001b[0m \u001b[1m112s\u001b[0m 59ms/step - accuracy: 0.0170 - loss: 0.0684 - val_accuracy: 0.0182 - val_loss: 0.0709\n",
      "Epoch 33/40\n",
      "\u001b[1m1875/1875\u001b[0m \u001b[32m━━━━━━━━━━━━━━━━━━━━\u001b[0m\u001b[37m\u001b[0m \u001b[1m112s\u001b[0m 60ms/step - accuracy: 0.0184 - loss: 0.0681 - val_accuracy: 0.0191 - val_loss: 0.0710\n",
      "Epoch 34/40\n",
      "\u001b[1m1875/1875\u001b[0m \u001b[32m━━━━━━━━━━━━━━━━━━━━\u001b[0m\u001b[37m\u001b[0m \u001b[1m112s\u001b[0m 60ms/step - accuracy: 0.0179 - loss: 0.0681 - val_accuracy: 0.0145 - val_loss: 0.0710\n",
      "Epoch 35/40\n",
      "\u001b[1m1875/1875\u001b[0m \u001b[32m━━━━━━━━━━━━━━━━━━━━\u001b[0m\u001b[37m\u001b[0m \u001b[1m112s\u001b[0m 60ms/step - accuracy: 0.0189 - loss: 0.0680 - val_accuracy: 0.0170 - val_loss: 0.0709\n",
      "Epoch 36/40\n",
      "\u001b[1m1875/1875\u001b[0m \u001b[32m━━━━━━━━━━━━━━━━━━━━\u001b[0m\u001b[37m\u001b[0m \u001b[1m142s\u001b[0m 60ms/step - accuracy: 0.0184 - loss: 0.0679 - val_accuracy: 0.0169 - val_loss: 0.0708\n",
      "Epoch 37/40\n",
      "\u001b[1m1875/1875\u001b[0m \u001b[32m━━━━━━━━━━━━━━━━━━━━\u001b[0m\u001b[37m\u001b[0m \u001b[1m112s\u001b[0m 60ms/step - accuracy: 0.0185 - loss: 0.0677 - val_accuracy: 0.0211 - val_loss: 0.0710\n",
      "Epoch 38/40\n",
      "\u001b[1m1875/1875\u001b[0m \u001b[32m━━━━━━━━━━━━━━━━━━━━\u001b[0m\u001b[37m\u001b[0m \u001b[1m142s\u001b[0m 60ms/step - accuracy: 0.0192 - loss: 0.0677 - val_accuracy: 0.0182 - val_loss: 0.0708\n",
      "Epoch 39/40\n",
      "\u001b[1m1875/1875\u001b[0m \u001b[32m━━━━━━━━━━━━━━━━━━━━\u001b[0m\u001b[37m\u001b[0m \u001b[1m112s\u001b[0m 60ms/step - accuracy: 0.0201 - loss: 0.0676 - val_accuracy: 0.0233 - val_loss: 0.0706\n",
      "Epoch 40/40\n",
      "\u001b[1m1875/1875\u001b[0m \u001b[32m━━━━━━━━━━━━━━━━━━━━\u001b[0m\u001b[37m\u001b[0m \u001b[1m117s\u001b[0m 62ms/step - accuracy: 0.0200 - loss: 0.0675 - val_accuracy: 0.0212 - val_loss: 0.0709\n"
     ]
    },
    {
     "data": {
      "text/plain": [
       "<keras.src.callbacks.history.History at 0x7f946834e0d0>"
      ]
     },
     "execution_count": 55,
     "metadata": {},
     "output_type": "execute_result"
    }
   ],
   "source": [
    "autoencoder_adv.fit(x_train, x_train,\n",
    "                epochs=epochs,\n",
    "                shuffle=True,\n",
    "                batch_size=batch_size,\n",
    "                validation_data=(x_test, x_test))"
   ]
  },
  {
   "cell_type": "code",
   "execution_count": 56,
   "metadata": {
    "colab": {
     "base_uri": "https://localhost:8080/",
     "height": 633
    },
    "executionInfo": {
     "elapsed": 2901948,
     "status": "error",
     "timestamp": 1735937618664,
     "user": {
      "displayName": "Adrian",
      "userId": "01706726054200872649"
     },
     "user_tz": -60
    },
    "id": "nzQWq1RNdGiW",
    "outputId": "541615c6-0ff6-4074-e187-b4763e9354c9"
   },
   "outputs": [
    {
     "name": "stdout",
     "output_type": "stream",
     "text": [
      "Epoch 1/40\n",
      "\u001b[1m1875/1875\u001b[0m \u001b[32m━━━━━━━━━━━━━━━━━━━━\u001b[0m\u001b[37m\u001b[0m \u001b[1m123s\u001b[0m 64ms/step - accuracy: 1.7779e-07 - loss: 0.3443 - val_accuracy: 0.0000e+00 - val_loss: 0.2941\n",
      "Epoch 2/40\n",
      "\u001b[1m1875/1875\u001b[0m \u001b[32m━━━━━━━━━━━━━━━━━━━━\u001b[0m\u001b[37m\u001b[0m \u001b[1m113s\u001b[0m 60ms/step - accuracy: 1.4404e-07 - loss: 0.2893 - val_accuracy: 1.2755e-07 - val_loss: 0.2861\n",
      "Epoch 3/40\n",
      "\u001b[1m1875/1875\u001b[0m \u001b[32m━━━━━━━━━━━━━━━━━━━━\u001b[0m\u001b[37m\u001b[0m \u001b[1m113s\u001b[0m 60ms/step - accuracy: 6.4162e-08 - loss: 0.2828 - val_accuracy: 0.0000e+00 - val_loss: 0.2825\n",
      "Epoch 4/40\n",
      "\u001b[1m1875/1875\u001b[0m \u001b[32m━━━━━━━━━━━━━━━━━━━━\u001b[0m\u001b[37m\u001b[0m \u001b[1m142s\u001b[0m 60ms/step - accuracy: 1.2064e-07 - loss: 0.2797 - val_accuracy: 2.5510e-07 - val_loss: 0.2805\n",
      "Epoch 5/40\n",
      "\u001b[1m1875/1875\u001b[0m \u001b[32m━━━━━━━━━━━━━━━━━━━━\u001b[0m\u001b[37m\u001b[0m \u001b[1m114s\u001b[0m 61ms/step - accuracy: 9.4011e-08 - loss: 0.2780 - val_accuracy: 1.2755e-07 - val_loss: 0.2804\n",
      "Epoch 6/40\n",
      "\u001b[1m1875/1875\u001b[0m \u001b[32m━━━━━━━━━━━━━━━━━━━━\u001b[0m\u001b[37m\u001b[0m \u001b[1m113s\u001b[0m 61ms/step - accuracy: 1.8468e-07 - loss: 0.2767 - val_accuracy: 2.5510e-07 - val_loss: 0.2781\n",
      "Epoch 7/40\n",
      "\u001b[1m1875/1875\u001b[0m \u001b[32m━━━━━━━━━━━━━━━━━━━━\u001b[0m\u001b[37m\u001b[0m \u001b[1m142s\u001b[0m 61ms/step - accuracy: 5.4094e-08 - loss: 0.2747 - val_accuracy: 0.0000e+00 - val_loss: 0.2779\n",
      "Epoch 8/40\n",
      "\u001b[1m1875/1875\u001b[0m \u001b[32m━━━━━━━━━━━━━━━━━━━━\u001b[0m\u001b[37m\u001b[0m \u001b[1m115s\u001b[0m 62ms/step - accuracy: 1.4519e-07 - loss: 0.2741 - val_accuracy: 3.8265e-07 - val_loss: 0.2770\n",
      "Epoch 9/40\n",
      "\u001b[1m1875/1875\u001b[0m \u001b[32m━━━━━━━━━━━━━━━━━━━━\u001b[0m\u001b[37m\u001b[0m \u001b[1m147s\u001b[0m 64ms/step - accuracy: 6.4815e-08 - loss: 0.2728 - val_accuracy: 1.2755e-07 - val_loss: 0.2764\n",
      "Epoch 10/40\n",
      "\u001b[1m1875/1875\u001b[0m \u001b[32m━━━━━━━━━━━━━━━━━━━━\u001b[0m\u001b[37m\u001b[0m \u001b[1m114s\u001b[0m 61ms/step - accuracy: 1.9599e-07 - loss: 0.2716 - val_accuracy: 0.0000e+00 - val_loss: 0.2763\n",
      "Epoch 11/40\n",
      "\u001b[1m1875/1875\u001b[0m \u001b[32m━━━━━━━━━━━━━━━━━━━━\u001b[0m\u001b[37m\u001b[0m \u001b[1m114s\u001b[0m 61ms/step - accuracy: 2.8351e-08 - loss: 0.2712 - val_accuracy: 0.0000e+00 - val_loss: 0.2760\n",
      "Epoch 12/40\n",
      "\u001b[1m1875/1875\u001b[0m \u001b[32m━━━━━━━━━━━━━━━━━━━━\u001b[0m\u001b[37m\u001b[0m \u001b[1m115s\u001b[0m 61ms/step - accuracy: 1.7068e-07 - loss: 0.2709 - val_accuracy: 1.2755e-07 - val_loss: 0.2746\n",
      "Epoch 13/40\n",
      "\u001b[1m1875/1875\u001b[0m \u001b[32m━━━━━━━━━━━━━━━━━━━━\u001b[0m\u001b[37m\u001b[0m \u001b[1m119s\u001b[0m 64ms/step - accuracy: 2.2269e-07 - loss: 0.2700 - val_accuracy: 1.2755e-07 - val_loss: 0.2743\n",
      "Epoch 14/40\n",
      "\u001b[1m1875/1875\u001b[0m \u001b[32m━━━━━━━━━━━━━━━━━━━━\u001b[0m\u001b[37m\u001b[0m \u001b[1m114s\u001b[0m 61ms/step - accuracy: 2.6926e-07 - loss: 0.2697 - val_accuracy: 1.2755e-07 - val_loss: 0.2740\n",
      "Epoch 15/40\n",
      "\u001b[1m1875/1875\u001b[0m \u001b[32m━━━━━━━━━━━━━━━━━━━━\u001b[0m\u001b[37m\u001b[0m \u001b[1m142s\u001b[0m 61ms/step - accuracy: 2.0696e-07 - loss: 0.2690 - val_accuracy: 2.5510e-07 - val_loss: 0.2738\n",
      "Epoch 16/40\n",
      "\u001b[1m1875/1875\u001b[0m \u001b[32m━━━━━━━━━━━━━━━━━━━━\u001b[0m\u001b[37m\u001b[0m \u001b[1m144s\u001b[0m 62ms/step - accuracy: 1.5315e-07 - loss: 0.2692 - val_accuracy: 1.2755e-07 - val_loss: 0.2734\n",
      "Epoch 17/40\n",
      "\u001b[1m1875/1875\u001b[0m \u001b[32m━━━━━━━━━━━━━━━━━━━━\u001b[0m\u001b[37m\u001b[0m \u001b[1m118s\u001b[0m 63ms/step - accuracy: 1.2290e-07 - loss: 0.2688 - val_accuracy: 2.5510e-07 - val_loss: 0.2732\n",
      "Epoch 18/40\n",
      "\u001b[1m1875/1875\u001b[0m \u001b[32m━━━━━━━━━━━━━━━━━━━━\u001b[0m\u001b[37m\u001b[0m \u001b[1m115s\u001b[0m 61ms/step - accuracy: 4.8663e-09 - loss: 0.2677 - val_accuracy: 0.0000e+00 - val_loss: 0.2735\n",
      "Epoch 19/40\n",
      "\u001b[1m1875/1875\u001b[0m \u001b[32m━━━━━━━━━━━━━━━━━━━━\u001b[0m\u001b[37m\u001b[0m \u001b[1m142s\u001b[0m 61ms/step - accuracy: 2.0508e-07 - loss: 0.2674 - val_accuracy: 0.0000e+00 - val_loss: 0.2731\n",
      "Epoch 20/40\n",
      "\u001b[1m1875/1875\u001b[0m \u001b[32m━━━━━━━━━━━━━━━━━━━━\u001b[0m\u001b[37m\u001b[0m \u001b[1m142s\u001b[0m 61ms/step - accuracy: 1.6989e-07 - loss: 0.2675 - val_accuracy: 1.2755e-07 - val_loss: 0.2736\n",
      "Epoch 21/40\n",
      "\u001b[1m1875/1875\u001b[0m \u001b[32m━━━━━━━━━━━━━━━━━━━━\u001b[0m\u001b[37m\u001b[0m \u001b[1m142s\u001b[0m 61ms/step - accuracy: 2.7164e-07 - loss: 0.2672 - val_accuracy: 0.0000e+00 - val_loss: 0.2731\n",
      "Epoch 22/40\n",
      "\u001b[1m1875/1875\u001b[0m \u001b[32m━━━━━━━━━━━━━━━━━━━━\u001b[0m\u001b[37m\u001b[0m \u001b[1m142s\u001b[0m 61ms/step - accuracy: 9.5375e-08 - loss: 0.2662 - val_accuracy: 0.0000e+00 - val_loss: 0.2729\n",
      "Epoch 23/40\n",
      "\u001b[1m1875/1875\u001b[0m \u001b[32m━━━━━━━━━━━━━━━━━━━━\u001b[0m\u001b[37m\u001b[0m \u001b[1m142s\u001b[0m 61ms/step - accuracy: 2.1945e-07 - loss: 0.2664 - val_accuracy: 0.0000e+00 - val_loss: 0.2726\n",
      "Epoch 24/40\n",
      "\u001b[1m1875/1875\u001b[0m \u001b[32m━━━━━━━━━━━━━━━━━━━━\u001b[0m\u001b[37m\u001b[0m \u001b[1m115s\u001b[0m 61ms/step - accuracy: 1.8083e-07 - loss: 0.2657 - val_accuracy: 0.0000e+00 - val_loss: 0.2744\n",
      "Epoch 25/40\n",
      "\u001b[1m1875/1875\u001b[0m \u001b[32m━━━━━━━━━━━━━━━━━━━━\u001b[0m\u001b[37m\u001b[0m \u001b[1m116s\u001b[0m 62ms/step - accuracy: 3.3574e-07 - loss: 0.2666 - val_accuracy: 1.2755e-07 - val_loss: 0.2721\n",
      "Epoch 26/40\n",
      "\u001b[1m1875/1875\u001b[0m \u001b[32m━━━━━━━━━━━━━━━━━━━━\u001b[0m\u001b[37m\u001b[0m \u001b[1m116s\u001b[0m 62ms/step - accuracy: 1.4495e-07 - loss: 0.2657 - val_accuracy: 1.2755e-07 - val_loss: 0.2722\n",
      "Epoch 27/40\n",
      "\u001b[1m1875/1875\u001b[0m \u001b[32m━━━━━━━━━━━━━━━━━━━━\u001b[0m\u001b[37m\u001b[0m \u001b[1m116s\u001b[0m 62ms/step - accuracy: 1.6093e-07 - loss: 0.2651 - val_accuracy: 1.2755e-07 - val_loss: 0.2722\n",
      "Epoch 28/40\n",
      "\u001b[1m1875/1875\u001b[0m \u001b[32m━━━━━━━━━━━━━━━━━━━━\u001b[0m\u001b[37m\u001b[0m \u001b[1m121s\u001b[0m 64ms/step - accuracy: 2.2742e-07 - loss: 0.2648 - val_accuracy: 1.2755e-07 - val_loss: 0.2726\n",
      "Epoch 29/40\n",
      "\u001b[1m1875/1875\u001b[0m \u001b[32m━━━━━━━━━━━━━━━━━━━━\u001b[0m\u001b[37m\u001b[0m \u001b[1m137s\u001b[0m 62ms/step - accuracy: 3.2854e-07 - loss: 0.2645 - val_accuracy: 2.5510e-07 - val_loss: 0.2721\n",
      "Epoch 30/40\n",
      "\u001b[1m1875/1875\u001b[0m \u001b[32m━━━━━━━━━━━━━━━━━━━━\u001b[0m\u001b[37m\u001b[0m \u001b[1m116s\u001b[0m 62ms/step - accuracy: 5.6431e-08 - loss: 0.2655 - val_accuracy: 2.5510e-07 - val_loss: 0.2723\n",
      "Epoch 31/40\n",
      "\u001b[1m1875/1875\u001b[0m \u001b[32m━━━━━━━━━━━━━━━━━━━━\u001b[0m\u001b[37m\u001b[0m \u001b[1m116s\u001b[0m 62ms/step - accuracy: 2.7392e-07 - loss: 0.2645 - val_accuracy: 2.5510e-07 - val_loss: 0.2721\n",
      "Epoch 32/40\n",
      "\u001b[1m1875/1875\u001b[0m \u001b[32m━━━━━━━━━━━━━━━━━━━━\u001b[0m\u001b[37m\u001b[0m \u001b[1m115s\u001b[0m 61ms/step - accuracy: 1.9687e-07 - loss: 0.2636 - val_accuracy: 2.5510e-07 - val_loss: 0.2722\n",
      "Epoch 33/40\n",
      "\u001b[1m1875/1875\u001b[0m \u001b[32m━━━━━━━━━━━━━━━━━━━━\u001b[0m\u001b[37m\u001b[0m \u001b[1m121s\u001b[0m 64ms/step - accuracy: 3.9863e-07 - loss: 0.2637 - val_accuracy: 2.5510e-07 - val_loss: 0.2722\n",
      "Epoch 34/40\n",
      "\u001b[1m1875/1875\u001b[0m \u001b[32m━━━━━━━━━━━━━━━━━━━━\u001b[0m\u001b[37m\u001b[0m \u001b[1m116s\u001b[0m 62ms/step - accuracy: 2.3023e-07 - loss: 0.2633 - val_accuracy: 0.0000e+00 - val_loss: 0.2721\n",
      "Epoch 35/40\n",
      "\u001b[1m1875/1875\u001b[0m \u001b[32m━━━━━━━━━━━━━━━━━━━━\u001b[0m\u001b[37m\u001b[0m \u001b[1m142s\u001b[0m 62ms/step - accuracy: 1.2324e-07 - loss: 0.2629 - val_accuracy: 3.8265e-07 - val_loss: 0.2724\n",
      "Epoch 36/40\n",
      "\u001b[1m1875/1875\u001b[0m \u001b[32m━━━━━━━━━━━━━━━━━━━━\u001b[0m\u001b[37m\u001b[0m \u001b[1m120s\u001b[0m 64ms/step - accuracy: 4.0508e-07 - loss: 0.2636 - val_accuracy: 0.0000e+00 - val_loss: 0.2727\n",
      "Epoch 37/40\n",
      "\u001b[1m1875/1875\u001b[0m \u001b[32m━━━━━━━━━━━━━━━━━━━━\u001b[0m\u001b[37m\u001b[0m \u001b[1m116s\u001b[0m 62ms/step - accuracy: 4.9790e-07 - loss: 0.2630 - val_accuracy: 2.4235e-06 - val_loss: 0.2723\n",
      "Epoch 38/40\n",
      "\u001b[1m1875/1875\u001b[0m \u001b[32m━━━━━━━━━━━━━━━━━━━━\u001b[0m\u001b[37m\u001b[0m \u001b[1m116s\u001b[0m 62ms/step - accuracy: 5.5375e-07 - loss: 0.2630 - val_accuracy: 0.0000e+00 - val_loss: 0.2720\n",
      "Epoch 39/40\n",
      "\u001b[1m1875/1875\u001b[0m \u001b[32m━━━━━━━━━━━━━━━━━━━━\u001b[0m\u001b[37m\u001b[0m \u001b[1m116s\u001b[0m 62ms/step - accuracy: 2.0124e-07 - loss: 0.2630 - val_accuracy: 1.2755e-07 - val_loss: 0.2721\n",
      "Epoch 40/40\n",
      "\u001b[1m1875/1875\u001b[0m \u001b[32m━━━━━━━━━━━━━━━━━━━━\u001b[0m\u001b[37m\u001b[0m \u001b[1m116s\u001b[0m 62ms/step - accuracy: 6.2502e-07 - loss: 0.2628 - val_accuracy: 2.5510e-07 - val_loss: 0.2722\n"
     ]
    },
    {
     "data": {
      "text/plain": [
       "<keras.src.callbacks.history.History at 0x7f94670085d0>"
      ]
     },
     "execution_count": 56,
     "metadata": {},
     "output_type": "execute_result"
    }
   ],
   "source": [
    "f_autoencoder_adv.fit(f_x_train, f_x_train,\n",
    "                epochs=epochs,\n",
    "                shuffle=True,\n",
    "                batch_size=batch_size,\n",
    "                validation_data=(f_x_test, f_x_test))"
   ]
  },
  {
   "cell_type": "code",
   "execution_count": 57,
   "metadata": {
    "executionInfo": {
     "elapsed": 17,
     "status": "aborted",
     "timestamp": 1735937618665,
     "user": {
      "displayName": "Adrian",
      "userId": "01706726054200872649"
     },
     "user_tz": -60
    },
    "id": "Hapw-O6-dIC6"
   },
   "outputs": [
    {
     "name": "stdout",
     "output_type": "stream",
     "text": [
      "Epoch 1/40\n",
      "\u001b[1m1875/1875\u001b[0m \u001b[32m━━━━━━━━━━━━━━━━━━━━\u001b[0m\u001b[37m\u001b[0m \u001b[1m116s\u001b[0m 60ms/step - accuracy: 0.0000e+00 - loss: 0.3119 - val_accuracy: 1.2755e-07 - val_loss: 0.2176\n",
      "Epoch 2/40\n",
      "\u001b[1m1875/1875\u001b[0m \u001b[32m━━━━━━━━━━━━━━━━━━━━\u001b[0m\u001b[37m\u001b[0m \u001b[1m111s\u001b[0m 59ms/step - accuracy: 0.0000e+00 - loss: 0.1984 - val_accuracy: 0.0000e+00 - val_loss: 0.2023\n",
      "Epoch 3/40\n",
      "\u001b[1m1875/1875\u001b[0m \u001b[32m━━━━━━━━━━━━━━━━━━━━\u001b[0m\u001b[37m\u001b[0m \u001b[1m111s\u001b[0m 59ms/step - accuracy: 1.1416e-08 - loss: 0.1840 - val_accuracy: 0.0000e+00 - val_loss: 0.1937\n",
      "Epoch 4/40\n",
      "\u001b[1m1875/1875\u001b[0m \u001b[32m━━━━━━━━━━━━━━━━━━━━\u001b[0m\u001b[37m\u001b[0m \u001b[1m111s\u001b[0m 59ms/step - accuracy: 0.0000e+00 - loss: 0.1766 - val_accuracy: 0.0000e+00 - val_loss: 0.1887\n",
      "Epoch 5/40\n",
      "\u001b[1m1875/1875\u001b[0m \u001b[32m━━━━━━━━━━━━━━━━━━━━\u001b[0m\u001b[37m\u001b[0m \u001b[1m116s\u001b[0m 62ms/step - accuracy: 2.0016e-08 - loss: 0.1725 - val_accuracy: 1.2755e-07 - val_loss: 0.1849\n",
      "Epoch 6/40\n",
      "\u001b[1m1875/1875\u001b[0m \u001b[32m━━━━━━━━━━━━━━━━━━━━\u001b[0m\u001b[37m\u001b[0m \u001b[1m111s\u001b[0m 59ms/step - accuracy: 5.2916e-08 - loss: 0.1688 - val_accuracy: 0.0000e+00 - val_loss: 0.1839\n",
      "Epoch 7/40\n",
      "\u001b[1m1875/1875\u001b[0m \u001b[32m━━━━━━━━━━━━━━━━━━━━\u001b[0m\u001b[37m\u001b[0m \u001b[1m111s\u001b[0m 59ms/step - accuracy: 3.1330e-08 - loss: 0.1667 - val_accuracy: 0.0000e+00 - val_loss: 0.1809\n",
      "Epoch 8/40\n",
      "\u001b[1m1875/1875\u001b[0m \u001b[32m━━━━━━━━━━━━━━━━━━━━\u001b[0m\u001b[37m\u001b[0m \u001b[1m111s\u001b[0m 59ms/step - accuracy: 0.0000e+00 - loss: 0.1644 - val_accuracy: 0.0000e+00 - val_loss: 0.1794\n",
      "Epoch 9/40\n",
      "\u001b[1m1875/1875\u001b[0m \u001b[32m━━━━━━━━━━━━━━━━━━━━\u001b[0m\u001b[37m\u001b[0m \u001b[1m111s\u001b[0m 59ms/step - accuracy: 0.0000e+00 - loss: 0.1624 - val_accuracy: 0.0000e+00 - val_loss: 0.1790\n",
      "Epoch 10/40\n",
      "\u001b[1m1875/1875\u001b[0m \u001b[32m━━━━━━━━━━━━━━━━━━━━\u001b[0m\u001b[37m\u001b[0m \u001b[1m116s\u001b[0m 62ms/step - accuracy: 2.2231e-08 - loss: 0.1608 - val_accuracy: 0.0000e+00 - val_loss: 0.1770\n",
      "Epoch 11/40\n",
      "\u001b[1m1875/1875\u001b[0m \u001b[32m━━━━━━━━━━━━━━━━━━━━\u001b[0m\u001b[37m\u001b[0m \u001b[1m116s\u001b[0m 62ms/step - accuracy: 7.3268e-08 - loss: 0.1594 - val_accuracy: 0.0000e+00 - val_loss: 0.1770\n",
      "Epoch 12/40\n",
      "\u001b[1m1875/1875\u001b[0m \u001b[32m━━━━━━━━━━━━━━━━━━━━\u001b[0m\u001b[37m\u001b[0m \u001b[1m111s\u001b[0m 59ms/step - accuracy: 5.5407e-08 - loss: 0.1582 - val_accuracy: 0.0000e+00 - val_loss: 0.1758\n",
      "Epoch 13/40\n",
      "\u001b[1m1875/1875\u001b[0m \u001b[32m━━━━━━━━━━━━━━━━━━━━\u001b[0m\u001b[37m\u001b[0m \u001b[1m142s\u001b[0m 59ms/step - accuracy: 1.8288e-08 - loss: 0.1567 - val_accuracy: 0.0000e+00 - val_loss: 0.1752\n",
      "Epoch 14/40\n",
      "\u001b[1m1875/1875\u001b[0m \u001b[32m━━━━━━━━━━━━━━━━━━━━\u001b[0m\u001b[37m\u001b[0m \u001b[1m111s\u001b[0m 59ms/step - accuracy: 0.0000e+00 - loss: 0.1555 - val_accuracy: 0.0000e+00 - val_loss: 0.1745\n",
      "Epoch 15/40\n",
      "\u001b[1m1875/1875\u001b[0m \u001b[32m━━━━━━━━━━━━━━━━━━━━\u001b[0m\u001b[37m\u001b[0m \u001b[1m111s\u001b[0m 59ms/step - accuracy: 6.4846e-09 - loss: 0.1543 - val_accuracy: 0.0000e+00 - val_loss: 0.1747\n",
      "Epoch 16/40\n",
      "\u001b[1m1875/1875\u001b[0m \u001b[32m━━━━━━━━━━━━━━━━━━━━\u001b[0m\u001b[37m\u001b[0m \u001b[1m111s\u001b[0m 59ms/step - accuracy: 1.8195e-10 - loss: 0.1533 - val_accuracy: 0.0000e+00 - val_loss: 0.1739\n",
      "Epoch 17/40\n",
      "\u001b[1m1875/1875\u001b[0m \u001b[32m━━━━━━━━━━━━━━━━━━━━\u001b[0m\u001b[37m\u001b[0m \u001b[1m111s\u001b[0m 59ms/step - accuracy: 1.8837e-08 - loss: 0.1525 - val_accuracy: 0.0000e+00 - val_loss: 0.1737\n",
      "Epoch 18/40\n",
      "\u001b[1m1875/1875\u001b[0m \u001b[32m━━━━━━━━━━━━━━━━━━━━\u001b[0m\u001b[37m\u001b[0m \u001b[1m111s\u001b[0m 59ms/step - accuracy: 7.1608e-08 - loss: 0.1517 - val_accuracy: 1.2755e-07 - val_loss: 0.1733\n",
      "Epoch 19/40\n",
      "\u001b[1m1875/1875\u001b[0m \u001b[32m━━━━━━━━━━━━━━━━━━━━\u001b[0m\u001b[37m\u001b[0m \u001b[1m142s\u001b[0m 59ms/step - accuracy: 4.1645e-09 - loss: 0.1510 - val_accuracy: 0.0000e+00 - val_loss: 0.1732\n",
      "Epoch 20/40\n",
      "\u001b[1m1875/1875\u001b[0m \u001b[32m━━━━━━━━━━━━━━━━━━━━\u001b[0m\u001b[37m\u001b[0m \u001b[1m111s\u001b[0m 59ms/step - accuracy: 1.3606e-07 - loss: 0.1502 - val_accuracy: 0.0000e+00 - val_loss: 0.1730\n",
      "Epoch 21/40\n",
      "\u001b[1m1875/1875\u001b[0m \u001b[32m━━━━━━━━━━━━━━━━━━━━\u001b[0m\u001b[37m\u001b[0m \u001b[1m111s\u001b[0m 59ms/step - accuracy: 6.2317e-09 - loss: 0.1496 - val_accuracy: 0.0000e+00 - val_loss: 0.1724\n",
      "Epoch 22/40\n",
      "\u001b[1m1875/1875\u001b[0m \u001b[32m━━━━━━━━━━━━━━━━━━━━\u001b[0m\u001b[37m\u001b[0m \u001b[1m111s\u001b[0m 59ms/step - accuracy: 6.3229e-09 - loss: 0.1489 - val_accuracy: 0.0000e+00 - val_loss: 0.1723\n",
      "Epoch 23/40\n",
      "\u001b[1m1875/1875\u001b[0m \u001b[32m━━━━━━━━━━━━━━━━━━━━\u001b[0m\u001b[37m\u001b[0m \u001b[1m112s\u001b[0m 60ms/step - accuracy: 2.5079e-08 - loss: 0.1483 - val_accuracy: 0.0000e+00 - val_loss: 0.1716\n",
      "Epoch 24/40\n",
      "\u001b[1m1875/1875\u001b[0m \u001b[32m━━━━━━━━━━━━━━━━━━━━\u001b[0m\u001b[37m\u001b[0m \u001b[1m116s\u001b[0m 62ms/step - accuracy: 3.8778e-08 - loss: 0.1476 - val_accuracy: 1.2755e-07 - val_loss: 0.1720\n",
      "Epoch 25/40\n",
      "\u001b[1m1875/1875\u001b[0m \u001b[32m━━━━━━━━━━━━━━━━━━━━\u001b[0m\u001b[37m\u001b[0m \u001b[1m111s\u001b[0m 59ms/step - accuracy: 6.7458e-09 - loss: 0.1469 - val_accuracy: 0.0000e+00 - val_loss: 0.1717\n",
      "Epoch 26/40\n",
      "\u001b[1m1875/1875\u001b[0m \u001b[32m━━━━━━━━━━━━━━━━━━━━\u001b[0m\u001b[37m\u001b[0m \u001b[1m111s\u001b[0m 59ms/step - accuracy: 1.8735e-08 - loss: 0.1464 - val_accuracy: 0.0000e+00 - val_loss: 0.1715\n",
      "Epoch 27/40\n",
      "\u001b[1m1875/1875\u001b[0m \u001b[32m━━━━━━━━━━━━━━━━━━━━\u001b[0m\u001b[37m\u001b[0m \u001b[1m142s\u001b[0m 59ms/step - accuracy: 0.0000e+00 - loss: 0.1460 - val_accuracy: 0.0000e+00 - val_loss: 0.1719\n",
      "Epoch 28/40\n",
      "\u001b[1m1875/1875\u001b[0m \u001b[32m━━━━━━━━━━━━━━━━━━━━\u001b[0m\u001b[37m\u001b[0m \u001b[1m111s\u001b[0m 59ms/step - accuracy: 2.6604e-08 - loss: 0.1452 - val_accuracy: 0.0000e+00 - val_loss: 0.1719\n",
      "Epoch 29/40\n",
      "\u001b[1m1875/1875\u001b[0m \u001b[32m━━━━━━━━━━━━━━━━━━━━\u001b[0m\u001b[37m\u001b[0m \u001b[1m111s\u001b[0m 59ms/step - accuracy: 1.1630e-08 - loss: 0.1453 - val_accuracy: 1.2755e-07 - val_loss: 0.1715\n",
      "Epoch 30/40\n",
      "\u001b[1m1875/1875\u001b[0m \u001b[32m━━━━━━━━━━━━━━━━━━━━\u001b[0m\u001b[37m\u001b[0m \u001b[1m111s\u001b[0m 59ms/step - accuracy: 3.7013e-09 - loss: 0.1445 - val_accuracy: 0.0000e+00 - val_loss: 0.1719\n",
      "Epoch 31/40\n",
      "\u001b[1m1875/1875\u001b[0m \u001b[32m━━━━━━━━━━━━━━━━━━━━\u001b[0m\u001b[37m\u001b[0m \u001b[1m111s\u001b[0m 59ms/step - accuracy: 2.9303e-08 - loss: 0.1439 - val_accuracy: 0.0000e+00 - val_loss: 0.1721\n",
      "Epoch 32/40\n",
      "\u001b[1m1875/1875\u001b[0m \u001b[32m━━━━━━━━━━━━━━━━━━━━\u001b[0m\u001b[37m\u001b[0m \u001b[1m112s\u001b[0m 60ms/step - accuracy: 0.0000e+00 - loss: 0.1437 - val_accuracy: 0.0000e+00 - val_loss: 0.1714\n",
      "Epoch 33/40\n",
      "\u001b[1m1875/1875\u001b[0m \u001b[32m━━━━━━━━━━━━━━━━━━━━\u001b[0m\u001b[37m\u001b[0m \u001b[1m142s\u001b[0m 59ms/step - accuracy: 7.2262e-09 - loss: 0.1432 - val_accuracy: 0.0000e+00 - val_loss: 0.1720\n",
      "Epoch 34/40\n",
      "\u001b[1m1875/1875\u001b[0m \u001b[32m━━━━━━━━━━━━━━━━━━━━\u001b[0m\u001b[37m\u001b[0m \u001b[1m116s\u001b[0m 62ms/step - accuracy: 3.8145e-08 - loss: 0.1430 - val_accuracy: 0.0000e+00 - val_loss: 0.1716\n",
      "Epoch 35/40\n",
      "\u001b[1m1875/1875\u001b[0m \u001b[32m━━━━━━━━━━━━━━━━━━━━\u001b[0m\u001b[37m\u001b[0m \u001b[1m111s\u001b[0m 59ms/step - accuracy: 2.1624e-10 - loss: 0.1425 - val_accuracy: 0.0000e+00 - val_loss: 0.1721\n",
      "Epoch 36/40\n",
      "\u001b[1m1875/1875\u001b[0m \u001b[32m━━━━━━━━━━━━━━━━━━━━\u001b[0m\u001b[37m\u001b[0m \u001b[1m112s\u001b[0m 59ms/step - accuracy: 2.5533e-08 - loss: 0.1422 - val_accuracy: 0.0000e+00 - val_loss: 0.1724\n",
      "Epoch 37/40\n",
      "\u001b[1m1875/1875\u001b[0m \u001b[32m━━━━━━━━━━━━━━━━━━━━\u001b[0m\u001b[37m\u001b[0m \u001b[1m111s\u001b[0m 59ms/step - accuracy: 3.7172e-08 - loss: 0.1420 - val_accuracy: 0.0000e+00 - val_loss: 0.1714\n",
      "Epoch 38/40\n",
      "\u001b[1m1875/1875\u001b[0m \u001b[32m━━━━━━━━━━━━━━━━━━━━\u001b[0m\u001b[37m\u001b[0m \u001b[1m147s\u001b[0m 62ms/step - accuracy: 2.1693e-08 - loss: 0.1416 - val_accuracy: 0.0000e+00 - val_loss: 0.1721\n",
      "Epoch 39/40\n",
      "\u001b[1m1875/1875\u001b[0m \u001b[32m━━━━━━━━━━━━━━━━━━━━\u001b[0m\u001b[37m\u001b[0m \u001b[1m112s\u001b[0m 60ms/step - accuracy: 1.3714e-08 - loss: 0.1413 - val_accuracy: 1.2755e-07 - val_loss: 0.1732\n",
      "Epoch 40/40\n",
      "\u001b[1m1875/1875\u001b[0m \u001b[32m━━━━━━━━━━━━━━━━━━━━\u001b[0m\u001b[37m\u001b[0m \u001b[1m112s\u001b[0m 59ms/step - accuracy: 0.0000e+00 - loss: 0.1409 - val_accuracy: 0.0000e+00 - val_loss: 0.1720\n"
     ]
    },
    {
     "data": {
      "text/plain": [
       "<keras.src.callbacks.history.History at 0x7f9466593fd0>"
      ]
     },
     "execution_count": 57,
     "metadata": {},
     "output_type": "execute_result"
    }
   ],
   "source": [
    "k_autoencoder_adv.fit(k_x_train, k_x_train,\n",
    "                epochs=epochs,\n",
    "                shuffle=True,\n",
    "                batch_size=batch_size,\n",
    "                validation_data=(k_x_test, k_x_test))"
   ]
  },
  {
   "cell_type": "code",
   "execution_count": 58,
   "metadata": {
    "colab": {
     "base_uri": "https://localhost:8080/",
     "height": 393
    },
    "executionInfo": {
     "elapsed": 5514,
     "status": "error",
     "timestamp": 1735933379864,
     "user": {
      "displayName": "Adrian",
      "userId": "01706726054200872649"
     },
     "user_tz": -60
    },
    "id": "l7CDW_DKd19V",
    "outputId": "bfcc23df-66ca-46e1-dba6-77de6eb1df3e"
   },
   "outputs": [
    {
     "name": "stdout",
     "output_type": "stream",
     "text": [
      "\u001b[1m1875/1875\u001b[0m \u001b[32m━━━━━━━━━━━━━━━━━━━━\u001b[0m\u001b[37m\u001b[0m \u001b[1m31s\u001b[0m 17ms/step\n",
      "\u001b[1m313/313\u001b[0m \u001b[32m━━━━━━━━━━━━━━━━━━━━\u001b[0m\u001b[37m\u001b[0m \u001b[1m5s\u001b[0m 17ms/step\n",
      "\u001b[1m1875/1875\u001b[0m \u001b[32m━━━━━━━━━━━━━━━━━━━━\u001b[0m\u001b[37m\u001b[0m \u001b[1m31s\u001b[0m 17ms/step\n",
      "\u001b[1m313/313\u001b[0m \u001b[32m━━━━━━━━━━━━━━━━━━━━\u001b[0m\u001b[37m\u001b[0m \u001b[1m5s\u001b[0m 17ms/step\n",
      "\u001b[1m1875/1875\u001b[0m \u001b[32m━━━━━━━━━━━━━━━━━━━━\u001b[0m\u001b[37m\u001b[0m \u001b[1m32s\u001b[0m 17ms/step\n",
      "\u001b[1m313/313\u001b[0m \u001b[32m━━━━━━━━━━━━━━━━━━━━\u001b[0m\u001b[37m\u001b[0m \u001b[1m5s\u001b[0m 17ms/step\n"
     ]
    }
   ],
   "source": [
    "reconstructions_x_train = autoencoder_adv.predict(x_train)\n",
    "reconstructions_x_train = reconstructions_x_train.reshape(-1, 28 * 28)\n",
    "reconstructions_x_test = autoencoder_adv.predict(x_test)\n",
    "reconstructions_x_test = reconstructions_x_test.reshape(-1, 28 * 28)\n",
    "\n",
    "reconstructions_f_x_train = f_autoencoder_adv.predict(f_x_train)\n",
    "reconstructions_f_x_train = reconstructions_f_x_train.reshape(-1, 28 * 28)\n",
    "reconstructions_f_x_test = f_autoencoder_adv.predict(f_x_test)\n",
    "reconstructions_f_x_test = reconstructions_f_x_test.reshape(-1, 28 * 28)\n",
    "\n",
    "reconstructions_k_x_train = k_autoencoder_adv.predict(k_x_train)\n",
    "reconstructions_k_x_train = reconstructions_k_x_train.reshape(-1, 28 * 28)\n",
    "reconstructions_k_x_test = k_autoencoder_adv.predict(k_x_test)\n",
    "reconstructions_k_x_test = reconstructions_k_x_test.reshape(-1, 28 * 28)"
   ]
  },
  {
   "cell_type": "markdown",
   "metadata": {
    "id": "opDGMHAVdmiY"
   },
   "source": [
    "Classification:"
   ]
  },
  {
   "cell_type": "code",
   "execution_count": 59,
   "metadata": {
    "colab": {
     "base_uri": "https://localhost:8080/"
    },
    "executionInfo": {
     "elapsed": 243804,
     "status": "ok",
     "timestamp": 1735933633480,
     "user": {
      "displayName": "Adrian",
      "userId": "01706726054200872649"
     },
     "user_tz": -60
    },
    "id": "WUKts2ZwsHcW",
    "outputId": "54324035-fac0-4200-bd93-2a17f2790312"
   },
   "outputs": [],
   "source": [
    "x_train = x_train.reshape(-1, 784)\n",
    "f_x_train = f_x_train.reshape(-1, 784)\n",
    "k_x_train = k_x_train.reshape(-1, 784)\n",
    "\n",
    "x_test = x_test.reshape(-1, 784)\n",
    "f_x_test = f_x_test.reshape(-1, 784)\n",
    "k_x_test = k_x_test.reshape(-1, 784)"
   ]
  },
  {
   "cell_type": "code",
   "execution_count": 60,
   "metadata": {
    "colab": {
     "base_uri": "https://localhost:8080/"
    },
    "executionInfo": {
     "elapsed": 57506,
     "status": "ok",
     "timestamp": 1735934126531,
     "user": {
      "displayName": "Adrian",
      "userId": "01706726054200872649"
     },
     "user_tz": -60
    },
    "id": "PI0xEl0YdlxQ",
    "outputId": "2aa1b95a-e73c-4ed1-c638-63392ba47b7d"
   },
   "outputs": [
    {
     "name": "stdout",
     "output_type": "stream",
     "text": [
      "accuracy_score baseline: 0.9265, accuracy_score reconstructions: 0.929\n"
     ]
    }
   ],
   "source": [
    "classifier = LogisticRegression(solver='newton-cg')\n",
    "classifier.fit(x_train, y_train)\n",
    "\n",
    "y_pred = classifier.predict(x_test)\n",
    "y_pred_recon = classifier.predict(reconstructions_x_test)\n",
    "print(f\"accuracy_score baseline: {accuracy_score(y_pred, y_test)}, accuracy_score reconstructions: {accuracy_score(y_pred_recon, y_test)}\")"
   ]
  },
  {
   "cell_type": "code",
   "execution_count": 66,
   "metadata": {
    "executionInfo": {
     "elapsed": 8,
     "status": "aborted",
     "timestamp": 1735931442080,
     "user": {
      "displayName": "Adrian",
      "userId": "01706726054200872649"
     },
     "user_tz": -60
    },
    "id": "m3o5OzX4dqPb"
   },
   "outputs": [
    {
     "name": "stdout",
     "output_type": "stream",
     "text": [
      "accuracy_score baseline: 0.8436, accuracy_score reconstructions: 0.8463\n"
     ]
    }
   ],
   "source": [
    "f_classifier = LogisticRegression(solver='newton-cg')\n",
    "f_classifier.fit(f_x_train, f_y_train)\n",
    "\n",
    "y_pred = f_classifier.predict(f_x_test)\n",
    "y_pred_recon = f_classifier.predict(reconstructions_f_x_test)\n",
    "print(f\"accuracy_score baseline: {accuracy_score(y_pred, f_y_test)}, accuracy_score reconstructions: {accuracy_score(y_pred_recon, f_y_test)}\")"
   ]
  },
  {
   "cell_type": "code",
   "execution_count": 67,
   "metadata": {
    "executionInfo": {
     "elapsed": 8,
     "status": "aborted",
     "timestamp": 1735931442080,
     "user": {
      "displayName": "Adrian",
      "userId": "01706726054200872649"
     },
     "user_tz": -60
    },
    "id": "Jahv6OiidrsD"
   },
   "outputs": [
    {
     "name": "stdout",
     "output_type": "stream",
     "text": [
      "accuracy_score baseline: 0.6943, accuracy_score reconstructions: 0.7074\n"
     ]
    }
   ],
   "source": [
    "k_classifier = LogisticRegression(solver='newton-cg')\n",
    "k_classifier.fit(k_x_train, k_y_train)\n",
    "\n",
    "y_pred = k_classifier.predict(k_x_test)\n",
    "y_pred_recon = k_classifier.predict(reconstructions_k_x_test)\n",
    "print(f\"accuracy_score baseline: {accuracy_score(y_pred, k_y_test)}, accuracy_score reconstructions: {accuracy_score(y_pred_recon, k_y_test)}\")"
   ]
  },
  {
   "cell_type": "code",
   "execution_count": 63,
   "metadata": {
    "colab": {
     "base_uri": "https://localhost:8080/"
    },
    "executionInfo": {
     "elapsed": 67424,
     "status": "ok",
     "timestamp": 1735934716722,
     "user": {
      "displayName": "Adrian",
      "userId": "01706726054200872649"
     },
     "user_tz": -60
    },
    "id": "v8V97PpXduD7",
    "outputId": "e168765f-10cc-4bd9-925d-9abf31611c19"
   },
   "outputs": [
    {
     "name": "stdout",
     "output_type": "stream",
     "text": [
      "accuracy_score baseline: 0.9683, accuracy_score reconstructions: 0.9654\n"
     ]
    }
   ],
   "source": [
    "rf_classifier = RandomForestClassifier()\n",
    "rf_classifier.fit(x_train, y_train)\n",
    "\n",
    "y_pred_rf = rf_classifier.predict(x_test)\n",
    "y_pred_rf_recon = rf_classifier.predict(reconstructions_x_test)\n",
    "print(f\"accuracy_score baseline: {accuracy_score(y_pred_rf, y_test)}, accuracy_score reconstructions: {accuracy_score(y_pred_rf_recon, y_test)}\")"
   ]
  },
  {
   "cell_type": "code",
   "execution_count": 68,
   "metadata": {
    "executionInfo": {
     "elapsed": 8,
     "status": "aborted",
     "timestamp": 1735931442080,
     "user": {
      "displayName": "Adrian",
      "userId": "01706726054200872649"
     },
     "user_tz": -60
    },
    "id": "TIpJx1yDdvl-"
   },
   "outputs": [
    {
     "name": "stdout",
     "output_type": "stream",
     "text": [
      "accuracy_score baseline: 0.8777, accuracy_score reconstructions: 0.8482\n"
     ]
    }
   ],
   "source": [
    "f_rf_classifier = RandomForestClassifier()\n",
    "f_rf_classifier.fit(f_x_train, f_y_train)\n",
    "y_pred_rf = f_rf_classifier.predict(f_x_test)\n",
    "y_pred_rf_recon = f_rf_classifier.predict(reconstructions_f_x_test)\n",
    "print(f\"accuracy_score baseline: {accuracy_score(y_pred_rf, f_y_test)}, accuracy_score reconstructions: {accuracy_score(y_pred_rf_recon, f_y_test)}\")"
   ]
  },
  {
   "cell_type": "code",
   "execution_count": 69,
   "metadata": {
    "executionInfo": {
     "elapsed": 7,
     "status": "aborted",
     "timestamp": 1735931442080,
     "user": {
      "displayName": "Adrian",
      "userId": "01706726054200872649"
     },
     "user_tz": -60
    },
    "id": "Ifcm_DbfdxV6"
   },
   "outputs": [
    {
     "name": "stdout",
     "output_type": "stream",
     "text": [
      "accuracy_score baseline: 0.8538, accuracy_score reconstructions: 0.8226\n"
     ]
    }
   ],
   "source": [
    "k_rf_classifier = RandomForestClassifier()\n",
    "k_rf_classifier.fit(k_x_train, k_y_train)\n",
    "y_pred_rf = k_rf_classifier.predict(k_x_test)\n",
    "y_pred_rf_recon = k_rf_classifier.predict(reconstructions_k_x_test)\n",
    "print(f\"accuracy_score baseline: {accuracy_score(y_pred_rf, k_y_test)}, accuracy_score reconstructions: {accuracy_score(y_pred_rf_recon, k_y_test)}\")"
   ]
  },
  {
   "cell_type": "markdown",
   "metadata": {},
   "source": [
    "### Wnioski:\n",
    "Wszystkie wyniki rekonstrukcji zostały poprawione względem autoencodera z poprzedniego zadania.\\\n",
    "Dla klasyfikatora logistic regression wyniki zostały poprawione po zastosowaniu ekstrakcji cech względem baseline-u.\\\n",
    "Dla klasyfikatora random forest nie udało się poprawić wyników względem baseline-u, ale są one lepsze niż dla logistic regression."
   ]
  }
 ],
 "metadata": {
  "colab": {
   "authorship_tag": "ABX9TyM3VbrGA1M6y5izr7JWzTCy",
   "provenance": []
  },
  "kernelspec": {
   "display_name": ".venv",
   "language": "python",
   "name": "python3"
  },
  "language_info": {
   "codemirror_mode": {
    "name": "ipython",
    "version": 3
   },
   "file_extension": ".py",
   "mimetype": "text/x-python",
   "name": "python",
   "nbconvert_exporter": "python",
   "pygments_lexer": "ipython3",
   "version": "3.11.11"
  }
 },
 "nbformat": 4,
 "nbformat_minor": 0
}
